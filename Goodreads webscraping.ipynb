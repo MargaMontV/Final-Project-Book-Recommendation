{
 "cells": [
  {
   "cell_type": "code",
   "execution_count": 1,
   "id": "11861a46",
   "metadata": {},
   "outputs": [],
   "source": [
    "import requests\n",
    "import bs4\n",
    "import pandas as pd\n",
    "import re\n",
    "from urllib.parse import urljoin"
   ]
  },
  {
   "cell_type": "code",
   "execution_count": 18,
   "id": "a024f1fc",
   "metadata": {},
   "outputs": [],
   "source": [
    "base_url = 'https://www.goodreads.com/shelf/show/'\n",
    "genre = 'fantasy'\n",
    "sample_page = '1'\n",
    "pages = f'?page={sample_page}'"
   ]
  },
  {
   "cell_type": "code",
   "execution_count": 14,
   "id": "a395951b",
   "metadata": {},
   "outputs": [],
   "source": [
    "\n",
    "#url_fantasy = 'https://www.goodreads.com/shelf/show/fantasy'\n",
    "response = requests.get(base_url + genre + pages)\n",
    "html = response.content\n",
    "parsed_html = bs4.BeautifulSoup(html, \"html.parser\")"
   ]
  },
  {
   "cell_type": "code",
   "execution_count": 16,
   "id": "64f5dfd6",
   "metadata": {
    "scrolled": false
   },
   "outputs": [
    {
     "data": {
      "text/plain": [
       "['https://www.goodreads.com/shelf/show/fantasy?page=1',\n",
       " 'https://www.goodreads.com/shelf/show/fantasy?page=2',\n",
       " 'https://www.goodreads.com/shelf/show/fantasy?page=3',\n",
       " 'https://www.goodreads.com/shelf/show/fantasy?page=4',\n",
       " 'https://www.goodreads.com/shelf/show/fantasy?page=5',\n",
       " 'https://www.goodreads.com/shelf/show/fantasy?page=6',\n",
       " 'https://www.goodreads.com/shelf/show/fantasy?page=7',\n",
       " 'https://www.goodreads.com/shelf/show/fantasy?page=8',\n",
       " 'https://www.goodreads.com/shelf/show/fantasy?page=9',\n",
       " 'https://www.goodreads.com/shelf/show/fantasy?page=10',\n",
       " 'https://www.goodreads.com/shelf/show/fantasy?page=11',\n",
       " 'https://www.goodreads.com/shelf/show/fantasy?page=12',\n",
       " 'https://www.goodreads.com/shelf/show/fantasy?page=13',\n",
       " 'https://www.goodreads.com/shelf/show/fantasy?page=14',\n",
       " 'https://www.goodreads.com/shelf/show/fantasy?page=15',\n",
       " 'https://www.goodreads.com/shelf/show/fantasy?page=16',\n",
       " 'https://www.goodreads.com/shelf/show/fantasy?page=17',\n",
       " 'https://www.goodreads.com/shelf/show/fantasy?page=18',\n",
       " 'https://www.goodreads.com/shelf/show/fantasy?page=19',\n",
       " 'https://www.goodreads.com/shelf/show/fantasy?page=20',\n",
       " 'https://www.goodreads.com/shelf/show/fantasy?page=21',\n",
       " 'https://www.goodreads.com/shelf/show/fantasy?page=22',\n",
       " 'https://www.goodreads.com/shelf/show/fantasy?page=23',\n",
       " 'https://www.goodreads.com/shelf/show/fantasy?page=24',\n",
       " 'https://www.goodreads.com/shelf/show/fantasy?page=25']"
      ]
     },
     "execution_count": 16,
     "metadata": {},
     "output_type": "execute_result"
    }
   ],
   "source": [
    "book_fantasy_url = []\n",
    "\n",
    "for i in range(25):\n",
    "    book_fantasy_url.append(f'https://www.goodreads.com/shelf/show/fantasy?page={i+1}')\n",
    "book_fantasy_url    "
   ]
  },
  {
   "cell_type": "code",
   "execution_count": 21,
   "id": "f8f5a479",
   "metadata": {},
   "outputs": [
    {
     "data": {
      "text/plain": [
       "[{'genre': 'fantasy',\n",
       "  'url': 'https://www.goodreads.com/shelf/show/fantasy?page=1'}]"
      ]
     },
     "execution_count": 21,
     "metadata": {},
     "output_type": "execute_result"
    }
   ],
   "source": [
    "sample_page = '1'\n",
    "\n",
    "list_url = []\n",
    "dict_url = {}\n",
    "base_url = 'https://www.goodreads.com/shelf/show/'\n",
    "genre = 'fantasy'\n",
    "pages = f'?page={sample_page}'\n",
    "full_url = base_url + genre + pages\n",
    "\n",
    "dict_url['genre'] = genre\n",
    "dict_url['url'] = full_url\n",
    "\n",
    "list_url.append(dict_url)\n",
    "\n",
    "list_url"
   ]
  },
  {
   "cell_type": "code",
   "execution_count": 23,
   "id": "803a73d0",
   "metadata": {},
   "outputs": [],
   "source": [
    "genre_list = ['genre1', 'genre2', 'genre3']\n",
    "pages_list = ['1', '2', '3']"
   ]
  },
  {
   "cell_type": "code",
   "execution_count": 32,
   "id": "dd37d30c",
   "metadata": {},
   "outputs": [],
   "source": [
    "list_url = []\n",
    "\n",
    "\n",
    "for g in genre_list:\n",
    "    for p in pages_list:\n",
    "        base_url = 'https://www.goodreads.com/shelf/show/'\n",
    "        pages = f'?page={p}'\n",
    "        full_url = base_url + g + pages\n",
    "        dict_url = {}\n",
    "        dict_url['genre'] = g\n",
    "        dict_url['url'] = full_url\n",
    "        list_url.append(dict_url)\n",
    "        "
   ]
  },
  {
   "cell_type": "code",
   "execution_count": 33,
   "id": "2864064a",
   "metadata": {},
   "outputs": [
    {
     "data": {
      "text/plain": [
       "[{'genre': 'genre1',\n",
       "  'url': 'https://www.goodreads.com/shelf/show/genre1?page=1'},\n",
       " {'genre': 'genre1',\n",
       "  'url': 'https://www.goodreads.com/shelf/show/genre1?page=2'},\n",
       " {'genre': 'genre1',\n",
       "  'url': 'https://www.goodreads.com/shelf/show/genre1?page=3'},\n",
       " {'genre': 'genre2',\n",
       "  'url': 'https://www.goodreads.com/shelf/show/genre2?page=1'},\n",
       " {'genre': 'genre2',\n",
       "  'url': 'https://www.goodreads.com/shelf/show/genre2?page=2'},\n",
       " {'genre': 'genre2',\n",
       "  'url': 'https://www.goodreads.com/shelf/show/genre2?page=3'},\n",
       " {'genre': 'genre3',\n",
       "  'url': 'https://www.goodreads.com/shelf/show/genre3?page=1'},\n",
       " {'genre': 'genre3',\n",
       "  'url': 'https://www.goodreads.com/shelf/show/genre3?page=2'},\n",
       " {'genre': 'genre3',\n",
       "  'url': 'https://www.goodreads.com/shelf/show/genre3?page=3'}]"
      ]
     },
     "execution_count": 33,
     "metadata": {},
     "output_type": "execute_result"
    }
   ],
   "source": [
    "list_url"
   ]
  },
  {
   "cell_type": "code",
   "execution_count": null,
   "id": "08595812",
   "metadata": {},
   "outputs": [],
   "source": [
    "book_title = []\n",
    "book_author = []\n",
    "book_rating = []\n",
    "book_ratings_count = []\n",
    "book_reviews_count = []\n",
    "book_genres = []\n",
    "book_pages = []\n",
    "book_first_published = []\n",
    "\n",
    "for i in book_fantasy_url:\n",
    "    author_divs = parsed_html.find_all(\"span\", {\"class\": \"ContributorLink__name\"})[0].text\n",
    "    book_title.append(title_text)\n",
    "    \n",
    "    "
   ]
  },
  {
   "cell_type": "code",
   "execution_count": 3,
   "id": "efbccc8d",
   "metadata": {},
   "outputs": [
    {
     "data": {
      "text/plain": [
       "'J.K. Rowling'"
      ]
     },
     "execution_count": 3,
     "metadata": {},
     "output_type": "execute_result"
    }
   ],
   "source": [
    "#Extract Author particulars\n",
    "author_divs = parsed_html.find_all(\"span\", {\"class\": \"ContributorLink__name\"})[0].text\n",
    "author_divs"
   ]
  },
  {
   "cell_type": "code",
   "execution_count": 4,
   "id": "1da46a1b",
   "metadata": {},
   "outputs": [
    {
     "data": {
      "text/plain": [
       "'Harry Potter and the Philosopher’s Stone'"
      ]
     },
     "execution_count": 4,
     "metadata": {},
     "output_type": "execute_result"
    }
   ],
   "source": [
    "#Extract Title particulars\n",
    "title_divs = parsed_html.find_all(\"h1\", {\"class\": \"Text Text__title1\"})[0].text\n",
    "title_divs"
   ]
  },
  {
   "cell_type": "code",
   "execution_count": 5,
   "id": "7bec6f1e",
   "metadata": {},
   "outputs": [
    {
     "data": {
      "text/plain": [
       "'4.47'"
      ]
     },
     "execution_count": 5,
     "metadata": {},
     "output_type": "execute_result"
    }
   ],
   "source": [
    "#Extract Rating particulars\n",
    "rating_divs = parsed_html.find_all(\"div\", {\"class\": \"RatingStatistics__rating\"})[0].text\n",
    "rating_divs"
   ]
  },
  {
   "cell_type": "code",
   "execution_count": 8,
   "id": "00757687",
   "metadata": {},
   "outputs": [
    {
     "data": {
      "text/plain": [
       "'9,370,312'"
      ]
     },
     "execution_count": 8,
     "metadata": {},
     "output_type": "execute_result"
    }
   ],
   "source": [
    "#Extract Ratings_Count particulars\n",
    "ratings_count_divs = parsed_html.find_all(\"span\", {\"data-testid\": \"ratingsCount\"})[0].text\n",
    "ratings_count_divs_2 = ratings_count_divs.split()[0]\n",
    "ratings_count_divs_2"
   ]
  },
  {
   "cell_type": "code",
   "execution_count": 10,
   "id": "786d0a06",
   "metadata": {},
   "outputs": [
    {
     "data": {
      "text/plain": [
       "'9,370,312'"
      ]
     },
     "execution_count": 10,
     "metadata": {},
     "output_type": "execute_result"
    }
   ],
   "source": [
    "#Extract Reviews_Count particulars\n",
    "reviews_count_divs = parsed_html.find_all(\"span\", {\"data-testid\": \"reviewsCount\"})[0].text\n",
    "reviews_count_divs_2 = rating_count_divs.split()[0]\n",
    "reviews_count_divs_2"
   ]
  },
  {
   "cell_type": "code",
   "execution_count": 12,
   "id": "0cc5ae81",
   "metadata": {},
   "outputs": [
    {
     "data": {
      "text/plain": [
       "'223'"
      ]
     },
     "execution_count": 12,
     "metadata": {},
     "output_type": "execute_result"
    }
   ],
   "source": [
    "#Extract Pages particulars\n",
    "pages_divs = parsed_html.find_all(\"p\", {\"data-testid\": \"pagesFormat\"})[0].text\n",
    "pages_divs_2 = pages_divs.split()[0]\n",
    "pages_divs_2 "
   ]
  },
  {
   "cell_type": "code",
   "execution_count": 13,
   "id": "ca7419f9",
   "metadata": {},
   "outputs": [
    {
     "data": {
      "text/plain": [
       "'1997'"
      ]
     },
     "execution_count": 13,
     "metadata": {},
     "output_type": "execute_result"
    }
   ],
   "source": [
    "#Extract First Published particulars\n",
    "published_divs = parsed_html.find_all(\"p\", {\"data-testid\": \"publicationInfo\"})[0].text\n",
    "published_divs_2 = published_divs.split()[-1]\n",
    "published_divs_2 "
   ]
  },
  {
   "cell_type": "code",
   "execution_count": 19,
   "id": "ec925e60",
   "metadata": {},
   "outputs": [
    {
     "data": {
      "text/plain": [
       "[{'genre': 'fantasy',\n",
       "  'author': 'J.K. Rowling',\n",
       "  'title': 'Harry Potter and the Philosopher’s Stone'}]"
      ]
     },
     "execution_count": 19,
     "metadata": {},
     "output_type": "execute_result"
    }
   ],
   "source": [
    "book_list = []\n",
    "\n",
    "book_info = {}\n",
    "book_info['genre'] = genre\n",
    "book_info['author'] = parsed_html.find_all(\"span\", {\"class\": \"ContributorLink__name\"})[0].text\n",
    "book_info['title'] = parsed_html.find_all(\"h1\", {\"class\": \"Text Text__title1\"})[0].text\n",
    "\n",
    "book_list.append(book_info)\n",
    "book_list"
   ]
  },
  {
   "cell_type": "code",
   "execution_count": null,
   "id": "713fbcf2",
   "metadata": {},
   "outputs": [],
   "source": [
    "\n",
    "\n",
    "\n"
   ]
  },
  {
   "cell_type": "code",
   "execution_count": null,
   "id": "2a229f9d",
   "metadata": {},
   "outputs": [],
   "source": []
  },
  {
   "cell_type": "code",
   "execution_count": null,
   "id": "0928a668",
   "metadata": {},
   "outputs": [],
   "source": [
    "\n",
    "url = 'https://www.goodreads.com/shelf/show/fantasy'\n",
    "\n",
    "\"\"\"\n",
    "\n",
    "\"\"\""
   ]
  },
  {
   "cell_type": "code",
   "execution_count": null,
   "id": "094c55e2",
   "metadata": {},
   "outputs": [],
   "source": [
    "headers = {'user-agent': 'Mozilla/5.0 (Windows NT 6.1; Win64; x64; rv:47.0) Gecko/20100101 Firefox/47.0'}"
   ]
  },
  {
   "cell_type": "code",
   "execution_count": null,
   "id": "93e7979e",
   "metadata": {},
   "outputs": [],
   "source": [
    "response = requests.get(url,\n",
    "                        headers=headers)\n",
    "response"
   ]
  },
  {
   "cell_type": "code",
   "execution_count": null,
   "id": "1404c8a4",
   "metadata": {
    "scrolled": true
   },
   "outputs": [],
   "source": [
    "html = response.content\n",
    "parsed_html = bs4.BeautifulSoup(html, \"html.parser\")\n",
    "#parsed_html"
   ]
  },
  {
   "cell_type": "code",
   "execution_count": null,
   "id": "07d95a94",
   "metadata": {},
   "outputs": [],
   "source": [
    "parsed_tags = list(set([tag.name for tag in parsed_html.find_all(True)]))\n",
    "print(type(parsed_tags), '\\n')\n",
    "print(parsed_tags)"
   ]
  },
  {
   "cell_type": "code",
   "execution_count": null,
   "id": "8c73a584",
   "metadata": {},
   "outputs": [],
   "source": [
    "# First layer: The element that contains all the data\n",
    "divs = parsed_html.find_all(\"div\", {\"class\": \"elementList\"})\n",
    "\n",
    "# Second layer: Extracting html tags that contain the links\n",
    "links = [div.find('a') for div in divs]"
   ]
  },
  {
   "cell_type": "code",
   "execution_count": null,
   "id": "30ef84da",
   "metadata": {},
   "outputs": [],
   "source": [
    "# Extracting the partial links  \n",
    "relative_url = [link['href'] for link in links]  \n",
    "\n",
    "# Computing the full url addresses \n",
    "full_url = [urljoin(url, relativeurl) for relativeurl in relative_url]\n",
    "full_url"
   ]
  },
  {
   "cell_type": "code",
   "execution_count": null,
   "id": "4e15c2ff",
   "metadata": {},
   "outputs": [],
   "source": [
    "# Filter only the book links\n",
    "book_url = [url for url in full_url if \"https://www.goodreads.com/book/show\" in url]"
   ]
  },
  {
   "cell_type": "code",
   "execution_count": null,
   "id": "2f1b6aac",
   "metadata": {},
   "outputs": [],
   "source": [
    "book_title = []\n",
    "book_author = []\n",
    "book_rating = []\n",
    "book_ratings_count = []\n",
    "book_reviews_count = []\n",
    "book_genres = []\n",
    "book_pages = []\n",
    "book_first_published = []"
   ]
  },
  {
   "cell_type": "code",
   "execution_count": null,
   "id": "438ebdf2",
   "metadata": {},
   "outputs": [],
   "source": [
    "#Extract Author particulars\n",
    "    author_divs = note_soup.find_all(\"a\", \n",
    "    {\"Class\":\"ContributorLink__name\"})\n",
    "    print(author_divs)"
   ]
  },
  {
   "cell_type": "code",
   "execution_count": null,
   "id": "7f44dc1d",
   "metadata": {},
   "outputs": [],
   "source": [
    "#creating a loop counter\n",
    "i = 0\n",
    "\n",
    "#Loop through all 50 books\n",
    "for url in book_url:\n",
    "    \n",
    "    #connect to url page\n",
    "    note_resp = requests.get(url)\n",
    "    \n",
    "    #checking if the request is successful\n",
    "    if note_resp.status_code == 200:\n",
    "        print(\"URL{}: {}\".format(i+1, url))\n",
    "    \n",
    "    else:\n",
    "        print('Status code{}: Skipping URL #{}: {}'.format(note_resp.status_code, i+1, url))\n",
    "        i = i+1\n",
    "        continue\n",
    "    \n",
    "    #get HTML from url page\n",
    "    note_html = note_resp.content\n",
    "    \n",
    "    #create beautifulsoup object for url page\n",
    "    note_soup = bs4.BeautifulSoup(note_html, 'html.parser')\n",
    "    \n",
    "    #Extract Author particulars\n",
    "    author_divs = note_soup.find_all(\"a\", \n",
    "    {\"Class\":\"ContributorLink__name\"})\n",
    "    print(author_divs)\n",
    "    "
   ]
  },
  {
   "cell_type": "code",
   "execution_count": null,
   "id": "5b94172b",
   "metadata": {},
   "outputs": [],
   "source": [
    "author_text = author_divs[0].find_all('a')[0].text\n",
    "    book_author.append(author_text)\n",
    "    \n",
    "    #Extract title particulars\n",
    "    title_divs = note_soup.find_all(\"div\", {\"class\": \"last col\"})\n",
    "    title_text = title_divs[0].find_all('h1')[0].text\n",
    "    book_title.append(title_text)\n",
    "    \n",
    "    #Extract rating particulars\n",
    "    rating_divs = note_soup.find_all(\"div\", {\"class\": \"uitext stacked\", \"id\": \"bookMeta\"})\n",
    "    rating_text = rating_divs[0].find_all(\"span\", {\"itemprop\": \"ratingValue\"})[0].text\n",
    "    book_rating.append(rating_text)\n",
    "    \n",
    "    #Extracting page particulars\n",
    "    page_divs = note_soup.find_all(\"div\", {\"class\": \"row\"})\n",
    "    try:\n",
    "        page_text = page_divs[0].find_all(\"span\", {\"itemprop\": \"numberOfPages\"})[0].text.strip(' pages')\n",
    "    except IndexError:\n",
    "        page_text = 0\n",
    "    book_pages.append(page_text)\n",
    "    \n",
    "    #Incremeting the loop counter\n",
    "    i = i+1"
   ]
  }
 ],
 "metadata": {
  "kernelspec": {
   "display_name": "Python [conda env:fp_env]",
   "language": "python",
   "name": "conda-env-fp_env-py"
  },
  "language_info": {
   "codemirror_mode": {
    "name": "ipython",
    "version": 3
   },
   "file_extension": ".py",
   "mimetype": "text/x-python",
   "name": "python",
   "nbconvert_exporter": "python",
   "pygments_lexer": "ipython3",
   "version": "3.9.16"
  }
 },
 "nbformat": 4,
 "nbformat_minor": 5
}
