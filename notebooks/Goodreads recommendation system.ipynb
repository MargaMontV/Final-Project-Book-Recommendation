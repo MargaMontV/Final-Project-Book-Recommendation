{
 "cells": [
  {
   "cell_type": "code",
   "execution_count": null,
   "id": "63870c7c",
   "metadata": {},
   "outputs": [],
   "source": [
    "import pandas as pd\n",
    "import streamlit as st\n",
    "import numpy as np"
   ]
  },
  {
   "cell_type": "code",
   "execution_count": 2,
   "id": "3b6b57b6",
   "metadata": {},
   "outputs": [
    {
     "data": {
      "text/html": [
       "<div>\n",
       "<style scoped>\n",
       "    .dataframe tbody tr th:only-of-type {\n",
       "        vertical-align: middle;\n",
       "    }\n",
       "\n",
       "    .dataframe tbody tr th {\n",
       "        vertical-align: top;\n",
       "    }\n",
       "\n",
       "    .dataframe thead th {\n",
       "        text-align: right;\n",
       "    }\n",
       "</style>\n",
       "<table border=\"1\" class=\"dataframe\">\n",
       "  <thead>\n",
       "    <tr style=\"text-align: right;\">\n",
       "      <th></th>\n",
       "      <th>Title</th>\n",
       "      <th>Author</th>\n",
       "      <th>Rating</th>\n",
       "      <th>Ratings count</th>\n",
       "      <th>Reviews count</th>\n",
       "      <th>Pages</th>\n",
       "      <th>First published</th>\n",
       "      <th>Cover image</th>\n",
       "      <th>book_url</th>\n",
       "      <th>Genre</th>\n",
       "    </tr>\n",
       "  </thead>\n",
       "  <tbody>\n",
       "    <tr>\n",
       "      <th>0</th>\n",
       "      <td>Harry Potter and the Philosopher’s Stone</td>\n",
       "      <td>J.K. Rowling</td>\n",
       "      <td>4.47</td>\n",
       "      <td>9,392,848 ratings</td>\n",
       "      <td>149,406 reviews</td>\n",
       "      <td>223 pages, Paperback</td>\n",
       "      <td>First published June 26, 1997</td>\n",
       "      <td>https://images-na.ssl-images-amazon.com/images...</td>\n",
       "      <td>https://www.goodreads.com/book/show/72193.Harr...</td>\n",
       "      <td>Fantasy</td>\n",
       "    </tr>\n",
       "    <tr>\n",
       "      <th>1</th>\n",
       "      <td>Harry Potter and the Chamber of Secrets</td>\n",
       "      <td>J.K. Rowling</td>\n",
       "      <td>4.43</td>\n",
       "      <td>3,647,256 ratings</td>\n",
       "      <td>72,580 reviews</td>\n",
       "      <td>341 pages, Hardcover</td>\n",
       "      <td>First published July 2, 1998</td>\n",
       "      <td>https://images-na.ssl-images-amazon.com/images...</td>\n",
       "      <td>https://www.goodreads.com/book/show/15881.Harr...</td>\n",
       "      <td>Fantasy</td>\n",
       "    </tr>\n",
       "    <tr>\n",
       "      <th>2</th>\n",
       "      <td>Harry Potter and the Prisoner of Azkaban</td>\n",
       "      <td>J.K. Rowling</td>\n",
       "      <td>4.58</td>\n",
       "      <td>3,865,520 ratings</td>\n",
       "      <td>76,425 reviews</td>\n",
       "      <td>435 pages, Mass Market Paperback</td>\n",
       "      <td>First published July 8, 1999</td>\n",
       "      <td>https://images-na.ssl-images-amazon.com/images...</td>\n",
       "      <td>https://www.goodreads.com/book/show/5.Harry_Po...</td>\n",
       "      <td>Fantasy</td>\n",
       "    </tr>\n",
       "    <tr>\n",
       "      <th>3</th>\n",
       "      <td>The Hobbit</td>\n",
       "      <td>J.R.R. Tolkien</td>\n",
       "      <td>4.28</td>\n",
       "      <td>3,709,210 ratings</td>\n",
       "      <td>64,963 reviews</td>\n",
       "      <td>366 pages, Paperback</td>\n",
       "      <td>First published September 21, 1937</td>\n",
       "      <td>https://images-na.ssl-images-amazon.com/images...</td>\n",
       "      <td>https://www.goodreads.com/book/show/5907.The_H...</td>\n",
       "      <td>Fantasy</td>\n",
       "    </tr>\n",
       "    <tr>\n",
       "      <th>4</th>\n",
       "      <td>Harry Potter and the Goblet of Fire</td>\n",
       "      <td>J.K. Rowling</td>\n",
       "      <td>4.56</td>\n",
       "      <td>3,442,808 ratings</td>\n",
       "      <td>63,249 reviews</td>\n",
       "      <td>734 pages, Paperback</td>\n",
       "      <td>First published July 8, 2000</td>\n",
       "      <td>https://images-na.ssl-images-amazon.com/images...</td>\n",
       "      <td>https://www.goodreads.com/book/show/6.Harry_Po...</td>\n",
       "      <td>Fantasy</td>\n",
       "    </tr>\n",
       "  </tbody>\n",
       "</table>\n",
       "</div>"
      ],
      "text/plain": [
       "                                      Title          Author  Rating  \\\n",
       "0  Harry Potter and the Philosopher’s Stone    J.K. Rowling    4.47   \n",
       "1   Harry Potter and the Chamber of Secrets    J.K. Rowling    4.43   \n",
       "2  Harry Potter and the Prisoner of Azkaban    J.K. Rowling    4.58   \n",
       "3                                The Hobbit  J.R.R. Tolkien    4.28   \n",
       "4       Harry Potter and the Goblet of Fire    J.K. Rowling    4.56   \n",
       "\n",
       "       Ratings count    Reviews count                             Pages  \\\n",
       "0  9,392,848 ratings  149,406 reviews              223 pages, Paperback   \n",
       "1  3,647,256 ratings   72,580 reviews              341 pages, Hardcover   \n",
       "2  3,865,520 ratings   76,425 reviews  435 pages, Mass Market Paperback   \n",
       "3  3,709,210 ratings   64,963 reviews              366 pages, Paperback   \n",
       "4  3,442,808 ratings   63,249 reviews              734 pages, Paperback   \n",
       "\n",
       "                      First published  \\\n",
       "0       First published June 26, 1997   \n",
       "1        First published July 2, 1998   \n",
       "2        First published July 8, 1999   \n",
       "3  First published September 21, 1937   \n",
       "4        First published July 8, 2000   \n",
       "\n",
       "                                         Cover image  \\\n",
       "0  https://images-na.ssl-images-amazon.com/images...   \n",
       "1  https://images-na.ssl-images-amazon.com/images...   \n",
       "2  https://images-na.ssl-images-amazon.com/images...   \n",
       "3  https://images-na.ssl-images-amazon.com/images...   \n",
       "4  https://images-na.ssl-images-amazon.com/images...   \n",
       "\n",
       "                                            book_url    Genre  \n",
       "0  https://www.goodreads.com/book/show/72193.Harr...  Fantasy  \n",
       "1  https://www.goodreads.com/book/show/15881.Harr...  Fantasy  \n",
       "2  https://www.goodreads.com/book/show/5.Harry_Po...  Fantasy  \n",
       "3  https://www.goodreads.com/book/show/5907.The_H...  Fantasy  \n",
       "4  https://www.goodreads.com/book/show/6.Harry_Po...  Fantasy  "
      ]
     },
     "execution_count": 2,
     "metadata": {},
     "output_type": "execute_result"
    }
   ],
   "source": [
    "goodreads_books = pd.read_csv('../data/goodreads_books.csv')\n",
    "goodreads_books.head()"
   ]
  },
  {
   "cell_type": "code",
   "execution_count": 3,
   "id": "c32a835b",
   "metadata": {},
   "outputs": [
    {
     "data": {
      "text/plain": [
       "array(['Fantasy', 'Science Fiction'], dtype=object)"
      ]
     },
     "execution_count": 3,
     "metadata": {},
     "output_type": "execute_result"
    }
   ],
   "source": [
    "goodreads_books['Genre'].unique()"
   ]
  },
  {
   "cell_type": "code",
   "execution_count": 6,
   "id": "bc984d7a",
   "metadata": {},
   "outputs": [
    {
     "name": "stderr",
     "output_type": "stream",
     "text": [
      "2023-07-12 19:50:22.938 \n",
      "  \u001b[33m\u001b[1mWarning:\u001b[0m to view this Streamlit app on a browser, run it with the following\n",
      "  command:\n",
      "\n",
      "    streamlit run C:\\Users\\Marguis\\miniconda3\\envs\\fp_env\\lib\\site-packages\\ipykernel_launcher.py [ARGUMENTS]\n"
     ]
    }
   ],
   "source": [
    "#n = int(input('Please enter the number of iterations:'))\n",
    "\n",
    "genre_list = ['Fantasy', 'Science-Fiction']\n",
    "\n",
    "\n",
    "print('Enter 1 for Fantasy')\n",
    "print('Enter 2 for Science-Fiction')\n",
    "choice = int(input('Enter your choice: '))\n",
    "    \n",
    "if (choice == 1):\n",
    "    goodreads_books_fantasy = goodreads_books.loc[goodreads_books['Genre'] == 'Fantasy']\n",
    "    print(goodreads_books_fantasy.sample(n = 10))\n",
    "elif (choice == 2):\n",
    "    goodreads_books_science_fiction = goodreads_books.loc[goodreads_books['Genre'] == 'Science Fiction']\n",
    "    print(goodreads_books_science_fiction.sample(n = 10))"
   ]
  },
  {
   "cell_type": "code",
   "execution_count": null,
   "id": "2890c38c",
   "metadata": {},
   "outputs": [],
   "source": []
  },
  {
   "cell_type": "code",
   "execution_count": null,
   "id": "028ed783",
   "metadata": {},
   "outputs": [],
   "source": []
  }
 ],
 "metadata": {
  "kernelspec": {
   "display_name": "Python [conda env:fp_env]",
   "language": "python",
   "name": "conda-env-fp_env-py"
  },
  "language_info": {
   "codemirror_mode": {
    "name": "ipython",
    "version": 3
   },
   "file_extension": ".py",
   "mimetype": "text/x-python",
   "name": "python",
   "nbconvert_exporter": "python",
   "pygments_lexer": "ipython3",
   "version": "3.9.16"
  }
 },
 "nbformat": 4,
 "nbformat_minor": 5
}
